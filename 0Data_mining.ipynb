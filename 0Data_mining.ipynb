{
 "cells": [
  {
   "cell_type": "code",
   "execution_count": 130,
   "metadata": {
    "collapsed": true
   },
   "outputs": [],
   "source": [
    "url = \"http://sejm.gov.pl/Sejm8.nsf/poslowie.xsp?type=A\"\n",
    "MAIN_PATH = \"/home/jack/datasets/politycy/\""
   ]
  },
  {
   "cell_type": "code",
   "execution_count": 17,
   "metadata": {
    "collapsed": true
   },
   "outputs": [],
   "source": [
    "def flatten(l):\n",
    "    return [subsub for sub in l for subsub in sub]\n",
    "\n",
    "import itertools\n",
    "def head(d):\n",
    "    return dict(itertools.islice(d.items(), 10))"
   ]
  },
  {
   "cell_type": "code",
   "execution_count": 18,
   "metadata": {
    "collapsed": false
   },
   "outputs": [],
   "source": [
    "import requests\n",
    "from bs4 import BeautifulSoup"
   ]
  },
  {
   "cell_type": "code",
   "execution_count": 19,
   "metadata": {
    "collapsed": true
   },
   "outputs": [],
   "source": [
    "page = requests.get(url)"
   ]
  },
  {
   "cell_type": "code",
   "execution_count": 20,
   "metadata": {
    "collapsed": false
   },
   "outputs": [],
   "source": [
    "# page.text"
   ]
  },
  {
   "cell_type": "code",
   "execution_count": 21,
   "metadata": {
    "collapsed": false
   },
   "outputs": [
    {
     "name": "stderr",
     "output_type": "stream",
     "text": [
      "/home/jack/anaconda3/lib/python3.5/site-packages/bs4/__init__.py:166: UserWarning: No parser was explicitly specified, so I'm using the best available HTML parser for this system (\"lxml\"). This usually isn't a problem, but if you run this code on another system, or in a different virtual environment, it may use a different parser and behave differently.\n",
      "\n",
      "To get rid of this warning, change this:\n",
      "\n",
      " BeautifulSoup([your markup])\n",
      "\n",
      "to this:\n",
      "\n",
      " BeautifulSoup([your markup], \"lxml\")\n",
      "\n",
      "  markup_type=markup_type))\n"
     ]
    }
   ],
   "source": [
    "bstext = BeautifulSoup(page.text)"
   ]
  },
  {
   "cell_type": "code",
   "execution_count": 22,
   "metadata": {
    "collapsed": true
   },
   "outputs": [],
   "source": [
    "politycy = bstext.findAll(\"div\", attrs={\"class\" : \"deputyName\"})"
   ]
  },
  {
   "cell_type": "code",
   "execution_count": null,
   "metadata": {
    "collapsed": false
   },
   "outputs": [],
   "source": []
  },
  {
   "cell_type": "code",
   "execution_count": 23,
   "metadata": {
    "collapsed": false
   },
   "outputs": [],
   "source": [
    "linki = {}\n",
    "\n",
    "for p in politycy:\n",
    "    linki[p.text] = p.parent.attrs[\"href\"]"
   ]
  },
  {
   "cell_type": "code",
   "execution_count": 24,
   "metadata": {
    "collapsed": false
   },
   "outputs": [],
   "source": [
    "# linki"
   ]
  },
  {
   "cell_type": "code",
   "execution_count": 25,
   "metadata": {
    "collapsed": true
   },
   "outputs": [],
   "source": [
    "def replace_with_newlines(element):\n",
    "    text = ''\n",
    "    for elem in element.recursiveChildGenerator():\n",
    "        if isinstance(elem, str):\n",
    "            text += elem.strip()\n",
    "        elif elem.name == 'br':\n",
    "            text += '\\n'\n",
    "    return text"
   ]
  },
  {
   "cell_type": "code",
   "execution_count": 26,
   "metadata": {
    "collapsed": false
   },
   "outputs": [
    {
     "name": "stderr",
     "output_type": "stream",
     "text": [
      "  0%|          | 0/460 [00:00<?, ?it/s]/home/jack/anaconda3/lib/python3.5/site-packages/bs4/__init__.py:166: UserWarning: No parser was explicitly specified, so I'm using the best available HTML parser for this system (\"lxml\"). This usually isn't a problem, but if you run this code on another system, or in a different virtual environment, it may use a different parser and behave differently.\n",
      "\n",
      "To get rid of this warning, change this:\n",
      "\n",
      " BeautifulSoup([your markup])\n",
      "\n",
      "to this:\n",
      "\n",
      " BeautifulSoup([your markup], \"lxml\")\n",
      "\n",
      "  markup_type=markup_type))\n"
     ]
    }
   ],
   "source": [
    "from tqdm import tqdm\n",
    "\n",
    "sejm_url = \"http://sejm.gov.pl\"\n",
    "\n",
    "szkola = {}\n",
    "kluby = {}\n",
    "def wyjmij_wlasnosc(bst, tag):\n",
    "    \"\"\"bst=zupa z beautifulsoup zawierajaca strone posla, tag=tag wlasnosci, ktora chcemy miec\"\"\"\n",
    "    tag_napis = bst.find(\"p\", attrs={\"id\" : tag})\n",
    "    tag_parent = tag_napis.parent\n",
    "    return tag_parent.find(\"p\", attrs={\"class\" : \"right\"})\n",
    "\n",
    "for k in tqdm(linki.keys()):\n",
    "    sp = requests.get(sejm_url + linki[k]).text\n",
    "    sp = BeautifulSoup(sp)\n",
    "    kluby[k] = wyjmij_wlasnosc(sp, \"lblLista\").text\n",
    "    szkola[k] = replace_with_newlines(wyjmij_wlasnosc(sp, \"lblSzkola\"))\n",
    "#     print(k, szkola[k])"
   ]
  },
  {
   "cell_type": "code",
   "execution_count": null,
   "metadata": {
    "collapsed": true
   },
   "outputs": [],
   "source": []
  },
  {
   "cell_type": "code",
   "execution_count": 27,
   "metadata": {
    "collapsed": false
   },
   "outputs": [],
   "source": [
    "from collections import defaultdict\n",
    "import re\n",
    "\n",
    "statsy = defaultdict()\n",
    "szkola_p = defaultdict()\n",
    "\n",
    "tytuly = {}\n",
    "\n",
    "for k, titles in szkola.items():\n",
    "    tytuly[k] = []\n",
    "    \n",
    "    titles = titles.split(\"\\n\")\n",
    "    for title in titles:\n",
    "        title = title.split(\" - \")\n",
    "        if len(title) > 1:\n",
    "            title = title[-1]\n",
    "            title = \"\".join(title.split(\"(\")[0])\n",
    "            tytuly[k].append(title.rstrip())\n",
    "        else:\n",
    "            if not tytuly[k]:\n",
    "                tytuly[k].append(\"nic\")"
   ]
  },
  {
   "cell_type": "code",
   "execution_count": 28,
   "metadata": {
    "collapsed": false
   },
   "outputs": [
    {
     "data": {
      "text/plain": [
       "'Akademia Medyczna, Wydział Lekarski - lekarz (1997)\\nSzkoła Zdrowia Publicznego Instutut Medycyny Pracy im. prof. J. Nofera w Łodzi, Organizacja, zarządzanie i ekonomika w opiece zdrowotnej (2002) - studia podyplomowe\\nSzkoła Zdrowia Publicznego Instutut Medycyny Pracy im. prof. J. Nofera w Łodzi, Zdrowie publiczne i środowiskowe (2003) - studia podyplomowe'"
      ]
     },
     "execution_count": 28,
     "metadata": {},
     "output_type": "execute_result"
    }
   ],
   "source": [
    "szkola[\"Kopcińska Joanna\"]"
   ]
  },
  {
   "cell_type": "code",
   "execution_count": 29,
   "metadata": {
    "collapsed": false
   },
   "outputs": [
    {
     "name": "stdout",
     "output_type": "stream",
     "text": [
      "['magister', 'magister', 'doktor', 'studia podyplomowe']\n"
     ]
    }
   ],
   "source": [
    "import re\n",
    "\n",
    "p = \"Uniwersytet Łódzki, Wydział Ekonomiczno-Socjologiczny, Finanse i bankowość - magister (1996)\\n\\\n",
    "Uniwersytet Łódzki, Wydział Ekonomiczno-Socjologiczny, Informatyka i ekonometria - magister (1999)\\n\\\n",
    "Uniwersytet Łódzki, Wydział Ekonomiczno-Socjologiczny, Nnauki ekonomiczne - doktor (2000)\\n\\\n",
    "Politechnika Łódzka, Pedagogika (2006) - studia podyplomowe\"\n",
    "p2 = \"Uniwersytet Łódzki, Wydział Ekonomiczno-Socjologiczny\"\n",
    "print(re.findall(\"- (\\w+\\s\\w+|\\w+)?\", p))"
   ]
  },
  {
   "cell_type": "code",
   "execution_count": 54,
   "metadata": {
    "collapsed": false
   },
   "outputs": [
    {
     "name": "stdout",
     "output_type": "stream",
     "text": [
      "Counter({'magister': 319,\n",
      "         'studia podyplomowe': 268,\n",
      "         'magister inżynier': 74,\n",
      "         'doktor': 55,\n",
      "         'nic': 26,\n",
      "         'licencjat': 22,\n",
      "         'technik': 18,\n",
      "         'lekarz': 17,\n",
      "         'doktor habilitowany': 17,\n",
      "         'inżynier': 16,\n",
      "         'studia doktoranckie': 3,\n",
      "         'magister inżynier architekt': 3,\n",
      "         'matura': 2,\n",
      "         'lekarz weterynarii': 2,\n",
      "         'dyplomowany ekonomista': 1,\n",
      "         'lekarz dentysta': 1,\n",
      "         'magister sztuki': 1})\n"
     ]
    }
   ],
   "source": [
    "from collections import Counter\n",
    "from pprint import pprint\n",
    "wszystkie_tyt = Counter(flatten(tytuly.values()))\n",
    "pprint(wszystkie_tyt)\n",
    "rodzaje_tyt = {k : 0 for k in wszystkie_tyt.keys()}"
   ]
  },
  {
   "cell_type": "code",
   "execution_count": 92,
   "metadata": {
    "collapsed": false
   },
   "outputs": [
    {
     "data": {
      "text/plain": [
       "{'doktor': 0,\n",
       " 'doktor habilitowany': 0,\n",
       " 'dyplomowany ekonomista': 0,\n",
       " 'inżynier': 0,\n",
       " 'lekarz': 1,\n",
       " 'lekarz dentysta': 0,\n",
       " 'lekarz weterynarii': 0,\n",
       " 'licencjat': 0,\n",
       " 'magister': 0,\n",
       " 'magister inżynier': 0,\n",
       " 'magister inżynier architekt': 0,\n",
       " 'magister sztuki': 0,\n",
       " 'matura': 2,\n",
       " 'nic': 0,\n",
       " 'studia doktoranckie': 0,\n",
       " 'studia podyplomowe': 0,\n",
       " 'technik': 0}"
      ]
     },
     "execution_count": 92,
     "metadata": {},
     "output_type": "execute_result"
    }
   ],
   "source": [
    "c = dict(Counter(rodzaje_tyt))\n",
    "c2 = dict(Counter([\"lekarz\", \"matura\", \"matura\"]))\n",
    "{**c, **c2}"
   ]
  },
  {
   "cell_type": "code",
   "execution_count": 32,
   "metadata": {
    "collapsed": false
   },
   "outputs": [],
   "source": [
    "import pandas as pd\n",
    "poslowie = pd.DataFrame({\"wyksztalcenie\": list(tytuly.values()), \"klub\": list(kluby.values())}, index=kluby.keys())"
   ]
  },
  {
   "cell_type": "code",
   "execution_count": 35,
   "metadata": {
    "collapsed": false
   },
   "outputs": [
    {
     "data": {
      "text/html": [
       "<div>\n",
       "<table border=\"1\" class=\"dataframe\">\n",
       "  <thead>\n",
       "    <tr style=\"text-align: right;\">\n",
       "      <th></th>\n",
       "      <th>klub</th>\n",
       "      <th>wyksztalcenie</th>\n",
       "    </tr>\n",
       "  </thead>\n",
       "  <tbody>\n",
       "    <tr>\n",
       "      <th>Kwiecień Anna</th>\n",
       "      <td>Prawo i Sprawiedliwość</td>\n",
       "      <td>[magister, studia podyplomowe]</td>\n",
       "    </tr>\n",
       "    <tr>\n",
       "      <th>Czernow Zofia</th>\n",
       "      <td>Platforma Obywatelska</td>\n",
       "      <td>[magister, studia podyplomowe, studia podyplom...</td>\n",
       "    </tr>\n",
       "    <tr>\n",
       "      <th>Kubiak Dariusz</th>\n",
       "      <td>Prawo i Sprawiedliwość</td>\n",
       "      <td>[technik]</td>\n",
       "    </tr>\n",
       "    <tr>\n",
       "      <th>Jędrysek Mariusz Orion</th>\n",
       "      <td>Prawo i Sprawiedliwość</td>\n",
       "      <td>[magister, doktor, doktor habilitowany]</td>\n",
       "    </tr>\n",
       "    <tr>\n",
       "      <th>Szulowski Krzysztof</th>\n",
       "      <td>Prawo i Sprawiedliwość</td>\n",
       "      <td>[magister]</td>\n",
       "    </tr>\n",
       "  </tbody>\n",
       "</table>\n",
       "</div>"
      ],
      "text/plain": [
       "                                          klub  \\\n",
       "Kwiecień Anna           Prawo i Sprawiedliwość   \n",
       "Czernow Zofia            Platforma Obywatelska   \n",
       "Kubiak Dariusz          Prawo i Sprawiedliwość   \n",
       "Jędrysek Mariusz Orion  Prawo i Sprawiedliwość   \n",
       "Szulowski Krzysztof     Prawo i Sprawiedliwość   \n",
       "\n",
       "                                                            wyksztalcenie  \n",
       "Kwiecień Anna                              [magister, studia podyplomowe]  \n",
       "Czernow Zofia           [magister, studia podyplomowe, studia podyplom...  \n",
       "Kubiak Dariusz                                                  [technik]  \n",
       "Jędrysek Mariusz Orion            [magister, doktor, doktor habilitowany]  \n",
       "Szulowski Krzysztof                                            [magister]  "
      ]
     },
     "execution_count": 35,
     "metadata": {},
     "output_type": "execute_result"
    }
   ],
   "source": [
    "poslowie.head()"
   ]
  },
  {
   "cell_type": "code",
   "execution_count": 72,
   "metadata": {
    "collapsed": false
   },
   "outputs": [],
   "source": [
    "kluby_tytuly = poslowie.groupby(\"klub\").aggregate(lambda x: dict(Counter(flatten(x))))"
   ]
  },
  {
   "cell_type": "code",
   "execution_count": 73,
   "metadata": {
    "collapsed": false,
    "scrolled": true
   },
   "outputs": [],
   "source": [
    "kluby_tytuly_dict_tmp = kluby_tytuly.transpose().to_dict()"
   ]
  },
  {
   "cell_type": "code",
   "execution_count": null,
   "metadata": {
    "collapsed": true
   },
   "outputs": [],
   "source": [
    "def mergedicts(d1, d2):\n",
    "    return "
   ]
  },
  {
   "cell_type": "code",
   "execution_count": 152,
   "metadata": {
    "collapsed": false
   },
   "outputs": [],
   "source": [
    "kluby_tytuly_dict = {k : v[\"wyksztalcenie\"] for k, v in kluby_tytuly_dict_tmp.items()}\n",
    "kluby_tytuly_dict = {k : {**rodzaje_tyt, **v} for k, v  in kluby_tytuly_dict.items()}\n",
    "kluby_tytuly_df = pd.DataFrame.from_dict(kluby_tytuly_dict).transpose()\n",
    "kluby_tytuly_df.to_csv(MAIN_PATH + \"kluby_tytuly.csv\")"
   ]
  },
  {
   "cell_type": "code",
   "execution_count": 153,
   "metadata": {
    "collapsed": false
   },
   "outputs": [
    {
     "data": {
      "text/html": [
       "<div>\n",
       "<table border=\"1\" class=\"dataframe\">\n",
       "  <thead>\n",
       "    <tr style=\"text-align: right;\">\n",
       "      <th></th>\n",
       "      <th>doktor</th>\n",
       "      <th>doktor habilitowany</th>\n",
       "      <th>dyplomowany ekonomista</th>\n",
       "      <th>inżynier</th>\n",
       "      <th>lekarz</th>\n",
       "      <th>lekarz dentysta</th>\n",
       "      <th>lekarz weterynarii</th>\n",
       "      <th>licencjat</th>\n",
       "      <th>magister</th>\n",
       "      <th>magister inżynier</th>\n",
       "      <th>magister inżynier architekt</th>\n",
       "      <th>magister sztuki</th>\n",
       "      <th>matura</th>\n",
       "      <th>nic</th>\n",
       "      <th>studia doktoranckie</th>\n",
       "      <th>studia podyplomowe</th>\n",
       "      <th>technik</th>\n",
       "    </tr>\n",
       "  </thead>\n",
       "  <tbody>\n",
       "    <tr>\n",
       "      <th>Kukiz'15</th>\n",
       "      <td>0.058824</td>\n",
       "      <td>0.029412</td>\n",
       "      <td>0.0</td>\n",
       "      <td>0.014706</td>\n",
       "      <td>0.000000</td>\n",
       "      <td>0.0</td>\n",
       "      <td>0.029412</td>\n",
       "      <td>0.058824</td>\n",
       "      <td>0.367647</td>\n",
       "      <td>0.029412</td>\n",
       "      <td>0.044118</td>\n",
       "      <td>0.0</td>\n",
       "      <td>0.0</td>\n",
       "      <td>0.088235</td>\n",
       "      <td>0.00000</td>\n",
       "      <td>0.250000</td>\n",
       "      <td>0.029412</td>\n",
       "    </tr>\n",
       "    <tr>\n",
       "      <th>Mniejszość Niemiecka</th>\n",
       "      <td>0.000000</td>\n",
       "      <td>0.000000</td>\n",
       "      <td>0.0</td>\n",
       "      <td>0.000000</td>\n",
       "      <td>0.000000</td>\n",
       "      <td>0.0</td>\n",
       "      <td>0.000000</td>\n",
       "      <td>0.000000</td>\n",
       "      <td>0.000000</td>\n",
       "      <td>1.000000</td>\n",
       "      <td>0.000000</td>\n",
       "      <td>0.0</td>\n",
       "      <td>0.0</td>\n",
       "      <td>0.000000</td>\n",
       "      <td>0.00000</td>\n",
       "      <td>0.000000</td>\n",
       "      <td>0.000000</td>\n",
       "    </tr>\n",
       "    <tr>\n",
       "      <th>Nowoczesna Ryszarda Petru</th>\n",
       "      <td>0.053571</td>\n",
       "      <td>0.035714</td>\n",
       "      <td>0.0</td>\n",
       "      <td>0.000000</td>\n",
       "      <td>0.000000</td>\n",
       "      <td>0.0</td>\n",
       "      <td>0.000000</td>\n",
       "      <td>0.089286</td>\n",
       "      <td>0.428571</td>\n",
       "      <td>0.035714</td>\n",
       "      <td>0.000000</td>\n",
       "      <td>0.0</td>\n",
       "      <td>0.0</td>\n",
       "      <td>0.017857</td>\n",
       "      <td>0.00000</td>\n",
       "      <td>0.321429</td>\n",
       "      <td>0.017857</td>\n",
       "    </tr>\n",
       "    <tr>\n",
       "      <th>Platforma Obywatelska</th>\n",
       "      <td>0.068592</td>\n",
       "      <td>0.014440</td>\n",
       "      <td>0.0</td>\n",
       "      <td>0.010830</td>\n",
       "      <td>0.025271</td>\n",
       "      <td>0.0</td>\n",
       "      <td>0.000000</td>\n",
       "      <td>0.021661</td>\n",
       "      <td>0.368231</td>\n",
       "      <td>0.086643</td>\n",
       "      <td>0.000000</td>\n",
       "      <td>0.0</td>\n",
       "      <td>0.0</td>\n",
       "      <td>0.021661</td>\n",
       "      <td>0.00361</td>\n",
       "      <td>0.364621</td>\n",
       "      <td>0.014440</td>\n",
       "    </tr>\n",
       "    <tr>\n",
       "      <th>Polskie Stronnictwo Ludowe</th>\n",
       "      <td>0.030303</td>\n",
       "      <td>0.000000</td>\n",
       "      <td>0.0</td>\n",
       "      <td>0.060606</td>\n",
       "      <td>0.000000</td>\n",
       "      <td>0.0</td>\n",
       "      <td>0.000000</td>\n",
       "      <td>0.000000</td>\n",
       "      <td>0.242424</td>\n",
       "      <td>0.151515</td>\n",
       "      <td>0.000000</td>\n",
       "      <td>0.0</td>\n",
       "      <td>0.0</td>\n",
       "      <td>0.000000</td>\n",
       "      <td>0.00000</td>\n",
       "      <td>0.454545</td>\n",
       "      <td>0.060606</td>\n",
       "    </tr>\n",
       "  </tbody>\n",
       "</table>\n",
       "</div>"
      ],
      "text/plain": [
       "                              doktor  doktor habilitowany  \\\n",
       "Kukiz'15                    0.058824             0.029412   \n",
       "Mniejszość Niemiecka        0.000000             0.000000   \n",
       "Nowoczesna Ryszarda Petru   0.053571             0.035714   \n",
       "Platforma Obywatelska       0.068592             0.014440   \n",
       "Polskie Stronnictwo Ludowe  0.030303             0.000000   \n",
       "\n",
       "                            dyplomowany ekonomista  inżynier    lekarz  \\\n",
       "Kukiz'15                                       0.0  0.014706  0.000000   \n",
       "Mniejszość Niemiecka                           0.0  0.000000  0.000000   \n",
       "Nowoczesna Ryszarda Petru                      0.0  0.000000  0.000000   \n",
       "Platforma Obywatelska                          0.0  0.010830  0.025271   \n",
       "Polskie Stronnictwo Ludowe                     0.0  0.060606  0.000000   \n",
       "\n",
       "                            lekarz dentysta  lekarz weterynarii  licencjat  \\\n",
       "Kukiz'15                                0.0            0.029412   0.058824   \n",
       "Mniejszość Niemiecka                    0.0            0.000000   0.000000   \n",
       "Nowoczesna Ryszarda Petru               0.0            0.000000   0.089286   \n",
       "Platforma Obywatelska                   0.0            0.000000   0.021661   \n",
       "Polskie Stronnictwo Ludowe              0.0            0.000000   0.000000   \n",
       "\n",
       "                            magister  magister inżynier  \\\n",
       "Kukiz'15                    0.367647           0.029412   \n",
       "Mniejszość Niemiecka        0.000000           1.000000   \n",
       "Nowoczesna Ryszarda Petru   0.428571           0.035714   \n",
       "Platforma Obywatelska       0.368231           0.086643   \n",
       "Polskie Stronnictwo Ludowe  0.242424           0.151515   \n",
       "\n",
       "                            magister inżynier architekt  magister sztuki  \\\n",
       "Kukiz'15                                       0.044118              0.0   \n",
       "Mniejszość Niemiecka                           0.000000              0.0   \n",
       "Nowoczesna Ryszarda Petru                      0.000000              0.0   \n",
       "Platforma Obywatelska                          0.000000              0.0   \n",
       "Polskie Stronnictwo Ludowe                     0.000000              0.0   \n",
       "\n",
       "                            matura       nic  studia doktoranckie  \\\n",
       "Kukiz'15                       0.0  0.088235              0.00000   \n",
       "Mniejszość Niemiecka           0.0  0.000000              0.00000   \n",
       "Nowoczesna Ryszarda Petru      0.0  0.017857              0.00000   \n",
       "Platforma Obywatelska          0.0  0.021661              0.00361   \n",
       "Polskie Stronnictwo Ludowe     0.0  0.000000              0.00000   \n",
       "\n",
       "                            studia podyplomowe   technik  \n",
       "Kukiz'15                              0.250000  0.029412  \n",
       "Mniejszość Niemiecka                  0.000000  0.000000  \n",
       "Nowoczesna Ryszarda Petru             0.321429  0.017857  \n",
       "Platforma Obywatelska                 0.364621  0.014440  \n",
       "Polskie Stronnictwo Ludowe            0.454545  0.060606  "
      ]
     },
     "execution_count": 153,
     "metadata": {},
     "output_type": "execute_result"
    }
   ],
   "source": [
    "kluby_tytuly_df = kluby_tytuly_df.divide(kluby_tytuly_df.sum(axis=1), axis=0)\n",
    "kluby_tytuly_df.head()"
   ]
  },
  {
   "cell_type": "code",
   "execution_count": null,
   "metadata": {
    "collapsed": false
   },
   "outputs": [],
   "source": []
  },
  {
   "cell_type": "code",
   "execution_count": null,
   "metadata": {
    "collapsed": false
   },
   "outputs": [],
   "source": []
  },
  {
   "cell_type": "code",
   "execution_count": null,
   "metadata": {
    "collapsed": false
   },
   "outputs": [],
   "source": []
  },
  {
   "cell_type": "code",
   "execution_count": null,
   "metadata": {
    "collapsed": true
   },
   "outputs": [],
   "source": []
  }
 ],
 "metadata": {
  "kernelspec": {
   "display_name": "Python 3",
   "language": "python",
   "name": "python3"
  },
  "language_info": {
   "codemirror_mode": {
    "name": "ipython",
    "version": 3
   },
   "file_extension": ".py",
   "mimetype": "text/x-python",
   "name": "python",
   "nbconvert_exporter": "python",
   "pygments_lexer": "ipython3",
   "version": "3.5.1"
  }
 },
 "nbformat": 4,
 "nbformat_minor": 0
}
